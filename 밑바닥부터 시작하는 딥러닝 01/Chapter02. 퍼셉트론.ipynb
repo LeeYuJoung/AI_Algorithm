{
  "nbformat": 4,
  "nbformat_minor": 0,
  "metadata": {
    "colab": {
      "provenance": []
    },
    "kernelspec": {
      "name": "python3",
      "display_name": "Python 3"
    },
    "language_info": {
      "name": "python"
    }
  },
  "cells": [
    {
      "cell_type": "markdown",
      "source": [
        "### **Chapter02. 퍼셉트론 (Perception)**"
      ],
      "metadata": {
        "id": "0rs00d6H8Fze"
      }
    },
    {
      "cell_type": "markdown",
      "source": [
        "##### **02.01 단층 퍼셉트론**"
      ],
      "metadata": {
        "id": "cuxHWBwi5D_r"
      }
    },
    {
      "cell_type": "markdown",
      "source": [
        "* 선형 영역 표현만 가능\n",
        "* 퍼셉트론은 ***직선 하나***로 나눈 영역만을 표현할 수 있다는 한계 있음"
      ],
      "metadata": {
        "id": "BftRaSoX-kP1"
      }
    },
    {
      "cell_type": "markdown",
      "source": [
        "***퍼셉트론 식***\n",
        "\n",
        "$y =\\begin{cases}0 & ( w_{1}x_{1} + w_{2}x_{2} \\leq  \\theta)  \\\\1 & ( w_{1}x_{1} + w_{2}x_{2} >  \\theta) \\end{cases} $"
      ],
      "metadata": {
        "id": "3Qp68gERwW7D"
      }
    },
    {
      "cell_type": "markdown",
      "source": [
        "*  가중치 (w : weight) : 각 신호가 결과에 주는 영향력을 제어, 클수록 중요한 신호\n",
        "*  임계값  ($\\theta$ : theta)"
      ],
      "metadata": {
        "id": "wcRaPBTkwshr"
      }
    },
    {
      "cell_type": "code",
      "execution_count": null,
      "metadata": {
        "id": "AtTlXzWk7-KH"
      },
      "outputs": [],
      "source": [
        "## 논리 회로 - AND 게이트\n",
        "def AND(x1, x2):\n",
        "  # 가중치, 임계값(θ) 매개변수\n",
        "  w1, w2, theta = 0.5, 0.5, 0.7\n",
        "  tmp = (x1*w1) + (x2*w2)\n",
        "\n",
        "  if tmp <= theta:\n",
        "    return 0\n",
        "  elif tmp > theta:\n",
        "    return 1"
      ]
    },
    {
      "cell_type": "markdown",
      "source": [
        "***편향을 도입한 퍼셉트론 식***\n",
        "\n",
        "$y =\\begin{cases}0 & (b + w_{1}x_{1} + w_{2}x_{2} \\leq  0)  \\\\1 & (b + w_{1}x_{1} + w_{2}x_{2} >  0) \\end{cases} $\n"
      ],
      "metadata": {
        "id": "zE-T6zpqv4GH"
      }
    },
    {
      "cell_type": "markdown",
      "source": [
        "* $\\theta$ 를 -b로 치환하여 좌변으로 이항\n",
        "*  편향 (b : bias) : 뉴런이 얼마나 쉽게 활성화되는가를 제어"
      ],
      "metadata": {
        "id": "Q9wnOLpVxyGH"
      }
    },
    {
      "cell_type": "code",
      "source": [
        "## 가중치와 편향 도입\n",
        "import numpy as np\n",
        "\n",
        "def AND2(x1, x2):\n",
        "  x = np.array([x1, x2])      # 입력 신호\n",
        "  w = np.array([0.5, 0.5])   # 가중치\n",
        "  b = -0.7                       # 편향\n",
        "  tmp = np.sum(x*w) + b\n",
        "\n",
        "  if tmp <= 0:\n",
        "    return 0\n",
        "  else:\n",
        "    return 1"
      ],
      "metadata": {
        "id": "yEfJy9pAGoHd"
      },
      "execution_count": null,
      "outputs": []
    },
    {
      "cell_type": "code",
      "source": [
        "## 논리 회로 - NAND 게이트\n",
        "def NAND(x1, x2):\n",
        "  x = np.array(x1, x2)\n",
        "  w = np.array([-0.5, -0.5])\n",
        "  b = 0.7\n",
        "  tmp = np.sum(x * w) + b\n",
        "\n",
        "  if tmp <= 0:\n",
        "    return 0\n",
        "  else:\n",
        "    return 1\n",
        "\n",
        "## 논리 회로 - OR 게이트\n",
        "def OR(x1, x2):\n",
        "  # AND 게이트와는 가중치(w, b)의 값만 다름\n",
        "  x = np.array([x1, x2])\n",
        "  w = np.array([0.5, 0.5])\n",
        "  b = -0.2\n",
        "  tmp = np.sum(x*w) + b\n",
        "\n",
        "  if tmp <= 0:\n",
        "    return 0\n",
        "  else:\n",
        "    return 1"
      ],
      "metadata": {
        "id": "EYHBDL75KZYT"
      },
      "execution_count": null,
      "outputs": []
    },
    {
      "cell_type": "markdown",
      "source": [
        "##### **02.02 다층 퍼셉트론**"
      ],
      "metadata": {
        "id": "Uk5N1zf65OHK"
      }
    },
    {
      "cell_type": "markdown",
      "source": [
        "![다운로드.png](data:image/png;base64,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)\n",
        "\n",
        "* AND, NAND, OR 게이트 조합하여 만든 XOR 게이트\n",
        "* 비선형 영역 표현 가능"
      ],
      "metadata": {
        "id": "mQNT1F-e7wgT"
      }
    },
    {
      "cell_type": "code",
      "source": [
        "## 논리 회로 - XOR 게이트 (배타적 논리합 : 두 입력 신호 중 한 쪽이 1일 때만 뉴런 활성화)\n",
        "def XOR(x1, x2):\n",
        "  s1 = NAND(x1, x2)\n",
        "  s2 = OR(x1, x2)\n",
        "  y = AND(s1, s2)\n",
        "  return y"
      ],
      "metadata": {
        "id": "uzJlAyeuM329"
      },
      "execution_count": null,
      "outputs": []
    }
  ]
}