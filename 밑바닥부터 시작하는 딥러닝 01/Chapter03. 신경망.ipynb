{
  "nbformat": 4,
  "nbformat_minor": 0,
  "metadata": {
    "colab": {
      "provenance": []
    },
    "kernelspec": {
      "name": "python3",
      "display_name": "Python 3"
    },
    "language_info": {
      "name": "python"
    }
  },
  "cells": [
    {
      "cell_type": "markdown",
      "source": [
        "### **Chapter03. 신경망 (Neural Network)**"
      ],
      "metadata": {
        "id": "2Laf9b1_YFhv"
      }
    },
    {
      "cell_type": "markdown",
      "source": [
        "#### **3.1 신경망**"
      ],
      "metadata": {
        "id": "qtTLEO68_PVR"
      }
    },
    {
      "cell_type": "markdown",
      "source": [
        "* 신경망은 데이터로부터 적절한 매개변수의 값을 학습하는 성질 있음\n",
        "* 퍼셉트론에서 사람이 수동적으로 가중치를 설정하던 문제를 해결"
      ],
      "metadata": {
        "id": "LDbWLswl_WwX"
      }
    },
    {
      "cell_type": "markdown",
      "source": [
        "* ***신경망 구조***\n",
        "\n",
        "<img width=\"35%\" src=\"https://img1.daumcdn.net/thumb/R1280x0/?scode=mtistory2&fname=https%3A%2F%2Fblog.kakaocdn.net%2Fdn%2FQGE7p%2FbtqVvOYeAIt%2F2EHFQj56d0l2tHK3JLk3k0%2Fimg.png\">\n"
      ],
      "metadata": {
        "id": "A_yHV0ybAbfJ"
      }
    },
    {
      "cell_type": "markdown",
      "source": [
        "####**3.2 활성화 함수**"
      ],
      "metadata": {
        "id": "slYW-XpzYowJ"
      }
    },
    {
      "cell_type": "markdown",
      "source": [
        "***활성화 함수 구조***\n",
        "\n",
        "$x = b + w_{1}x_{1} + w_{2}x_{2}$\n",
        "\n",
        "$h(x) =\\begin{cases}0 & (x \\leq  0)  \\\\1 & (x >  0) \\end{cases} $\n",
        "\n",
        "$y = h(a)$"
      ],
      "metadata": {
        "id": "3DwF9PXOYGYV"
      }
    },
    {
      "cell_type": "markdown",
      "source": [
        "* ***활성화 함수 (Activation Function)*** : 입력 신호의 총합을 출력 신호로 변환하는 함수/입력 신호의 총합이 활성화를 일으키는지 정하는 역할"
      ],
      "metadata": {
        "id": "PN79MhftBcN_"
      }
    },
    {
      "cell_type": "code",
      "execution_count": null,
      "metadata": {
        "id": "2kKfw_rsX2Yp"
      },
      "outputs": [],
      "source": [
        "## 단순 퍼셉트론 : 단층 네트워크에서 계단 함수(임계값을 경계로 출력이 바뀌는 함수)를 활성화 함수로 사용한 모델\n",
        "## 다층 퍼셉트론 : 신경망 (여러 층으로 구성되고, 시그모이드 함수 등 매끈한 활성화 함수를 사용하는 네트워크)"
      ]
    },
    {
      "cell_type": "markdown",
      "source": [
        "##### ***3.2.1 계단 함수 (Step Function)***\n",
        "\n",
        "* 임계값을 경계로 출력이 바뀌는 함수 ⟹ 선형 함수"
      ],
      "metadata": {
        "id": "1hxb7J19CO0f"
      }
    },
    {
      "cell_type": "markdown",
      "source": [
        "* 퍼셉트론과 신경망의 차이점\n",
        "  * 사용하는 활성화 함수 차이\n",
        "  * 계단 함수 vs 다른 활성화 함수"
      ],
      "metadata": {
        "id": "AxoyaAYIClkl"
      }
    },
    {
      "cell_type": "code",
      "source": [
        "# 계단 함수 구현\n",
        "import numpy as np\n",
        "import matplotlib.pylab as plt\n",
        "\n",
        "def step_function(x):\n",
        "  return np.array(x > 0, dtype=int)\n",
        "\n",
        "x = np.arange(-5.0, 5.0, 0.1)\n",
        "y = step_function(x)\n",
        "plt.plot(x, y)\n",
        "plt.ylim(-0.1, 1.1)\n",
        "plt.show()"
      ],
      "metadata": {
        "colab": {
          "base_uri": "https://localhost:8080/",
          "height": 430
        },
        "id": "uz84wTvcYP8M",
        "outputId": "3d5ac111-a54b-451b-e340-61b5dff2e55c"
      },
      "execution_count": null,
      "outputs": [
        {
          "output_type": "display_data",
          "data": {
            "text/plain": [
              "<Figure size 640x480 with 1 Axes>"
            ],
            "image/png": "[encoded data removed]"
          },
          "metadata": {}
        }
      ]
    },
    {
      "cell_type": "markdown",
      "source": [
        "##### ***3.2.2 시그모이드 함수 (Sigmoid Function)***\n",
        "\n",
        "$h(x) = \\frac{1}{1 + exp(-x)} = \\frac{1}{1 + e^{-x}} $\n",
        "\n",
        "$exp(-x) =  e^{-x} $"
      ],
      "metadata": {
        "id": "gl0pXd_7YTBj"
      }
    },
    {
      "cell_type": "markdown",
      "source": [
        "* s자 모양 함수 ⟹ 비선형 함수"
      ],
      "metadata": {
        "id": "zIxNy4upD4O-"
      }
    },
    {
      "cell_type": "code",
      "source": [
        "## 시그모이드 함수 구현\n",
        "import numpy as np\n",
        "import matplotlib.pyplot as plt\n",
        "\n",
        "def sigmoid(x):\n",
        "  return 1 /  (1 + np.exp(-x))"
      ],
      "metadata": {
        "id": "CKuibhTEYP5_"
      },
      "execution_count": null,
      "outputs": []
    },
    {
      "cell_type": "code",
      "source": [
        "x = np.arange(-5.0, 5.0, 0.1)\n",
        "y = sigmoid(x)\n",
        "\n",
        "plt.plot(x, y)\n",
        "plt.ylim(-0.1, 1.1)\n",
        "plt.show()"
      ],
      "metadata": {
        "colab": {
          "base_uri": "https://localhost:8080/",
          "height": 430
        },
        "id": "TJW9jz-yYP3g",
        "outputId": "21604c64-e25c-48be-90d7-1e874883e752"
      },
      "execution_count": null,
      "outputs": [
        {
          "output_type": "display_data",
          "data": {
            "text/plain": [
              "<Figure size 640x480 with 1 Axes>"
            ],
            "image/png": "[encoded data removed]"
          },
          "metadata": {}
        }
      ]
    },
    {
      "cell_type": "markdown",
      "source": [
        "##### ***3.3.3 ReLU 함수 (Rectified Linear Unit : 렐루)***\n",
        "\n",
        "$h(x) =\\begin{cases}x & (x >  0)  \\\\0 & (x \\leq  0) \\end{cases} $"
      ],
      "metadata": {
        "id": "18x_SouaiWVL"
      }
    },
    {
      "cell_type": "markdown",
      "source": [
        "* 입력이 0을 넘으면 그 입력을 그대로 출력하고, 0 이하면 0 출력 ⟹ 비선형 함수"
      ],
      "metadata": {
        "id": "d7YP3RwmHRqW"
      }
    },
    {
      "cell_type": "code",
      "source": [
        "## ReLU 함수 구현\n",
        "import numpy as np\n",
        "import matplotlib.pyplot as plt\n",
        "\n",
        "def relu(x):\n",
        "  return np.maximum(0, x)"
      ],
      "metadata": {
        "id": "JrwrBL16bjqN"
      },
      "execution_count": null,
      "outputs": []
    },
    {
      "cell_type": "code",
      "source": [
        "x = np.arange(-5.0, 5.0, 0.1)\n",
        "y = relu(x)\n",
        "\n",
        "plt.plot(x, y)\n",
        "plt.ylim(-5.0, 5.0)\n",
        "plt.show()"
      ],
      "metadata": {
        "colab": {
          "base_uri": "https://localhost:8080/",
          "height": 430
        },
        "id": "fxkYW8fbIKDg",
        "outputId": "6ecd362c-6548-49fa-8907-356d3a8fa716"
      },
      "execution_count": null,
      "outputs": [
        {
          "output_type": "display_data",
          "data": {
            "text/plain": [
              "<Figure size 640x480 with 1 Axes>"
            ],
            "image/png": "[encoded data removed]"
          },
          "metadata": {}
        }
      ]
    },
    {
      "cell_type": "markdown",
      "source": [
        "####**3.3 다차원 배열의 계산**"
      ],
      "metadata": {
        "id": "qW9ReosOY3cQ"
      }
    },
    {
      "cell_type": "code",
      "source": [
        "a = np.array([[1, 2, 3, 4], [5, 6, 7, 8], [9, 10, 11, 12]])\n",
        "print(a)"
      ],
      "metadata": {
        "colab": {
          "base_uri": "https://localhost:8080/"
        },
        "id": "5kCjnC9cYPyt",
        "outputId": "269b4de8-3edf-4ae6-9984-8c51fd001f5a"
      },
      "execution_count": null,
      "outputs": [
        {
          "output_type": "stream",
          "name": "stdout",
          "text": [
            "[[ 1  2  3  4]\n",
            " [ 5  6  7  8]\n",
            " [ 9 10 11 12]]\n"
          ]
        }
      ]
    },
    {
      "cell_type": "code",
      "source": [
        "# 배열의 차원 수 확인\n",
        "np.ndim(a)"
      ],
      "metadata": {
        "colab": {
          "base_uri": "https://localhost:8080/"
        },
        "id": "S9ksRa3u5aQj",
        "outputId": "4cb24ac3-1dad-4cb3-a1d0-48072713ff16"
      },
      "execution_count": null,
      "outputs": [
        {
          "output_type": "execute_result",
          "data": {
            "text/plain": [
              "2"
            ]
          },
          "metadata": {},
          "execution_count": 12
        }
      ]
    },
    {
      "cell_type": "code",
      "source": [
        "# 배열의 형상 튜플로 확인\n",
        "a.shape"
      ],
      "metadata": {
        "colab": {
          "base_uri": "https://localhost:8080/"
        },
        "id": "AOnwYWt35geR",
        "outputId": "7fea2aa8-3c97-4b06-cd20-b5217f773e47"
      },
      "execution_count": null,
      "outputs": [
        {
          "output_type": "execute_result",
          "data": {
            "text/plain": [
              "(3, 4)"
            ]
          },
          "metadata": {},
          "execution_count": 13
        }
      ]
    },
    {
      "cell_type": "code",
      "source": [
        "# 행렬의 스칼라곱\n",
        "a = np.array([[1, 2], [3, 4], [5, 6]])\n",
        "b = np.array([[5, 6], [7, 8]])\n",
        "np.dot(a, b)"
      ],
      "metadata": {
        "colab": {
          "base_uri": "https://localhost:8080/"
        },
        "id": "8CHBYQwg5nNq",
        "outputId": "830743ae-4f22-4580-ec70-5d1efaadd07e"
      },
      "execution_count": null,
      "outputs": [
        {
          "output_type": "execute_result",
          "data": {
            "text/plain": [
              "array([[19, 22],\n",
              "       [43, 50],\n",
              "       [67, 78]])"
            ]
          },
          "metadata": {},
          "execution_count": 15
        }
      ]
    },
    {
      "cell_type": "markdown",
      "source": [
        "#### **3.4 신경망 구현**"
      ],
      "metadata": {
        "id": "pRj_8IyTK4q5"
      }
    },
    {
      "cell_type": "code",
      "source": [
        "## 각 층의 신호 전달 구현\n",
        "# 0층에서 1층 신호 전달\n",
        "x = np.array([1.0, 0.5])\n",
        "w1 = np.array([[0.1, 0.3, 0.5], [0.2, 0.4, 0.6]])\n",
        "b1 = np.array([0.1, 0.2, 0.3])\n",
        "\n",
        "a1 = np.dot(x, w1) + b1\n",
        "a1"
      ],
      "metadata": {
        "colab": {
          "base_uri": "https://localhost:8080/"
        },
        "id": "VPBkGnhW9Bg-",
        "outputId": "a91da795-ded1-4244-8190-4a93be70c9e1"
      },
      "execution_count": null,
      "outputs": [
        {
          "output_type": "execute_result",
          "data": {
            "text/plain": [
              "array([0.3, 0.7, 1.1])"
            ]
          },
          "metadata": {},
          "execution_count": 18
        }
      ]
    },
    {
      "cell_type": "code",
      "source": [
        "z1 = sigmoid(a1)\n",
        "z1"
      ],
      "metadata": {
        "colab": {
          "base_uri": "https://localhost:8080/"
        },
        "id": "LQYxPktiUtC-",
        "outputId": "cd863a08-d7ef-4ab8-db43-5e387792fb7a"
      },
      "execution_count": null,
      "outputs": [
        {
          "output_type": "execute_result",
          "data": {
            "text/plain": [
              "array([0.57444252, 0.66818777, 0.75026011])"
            ]
          },
          "metadata": {},
          "execution_count": 21
        }
      ]
    },
    {
      "cell_type": "code",
      "source": [
        "# 1층에서 2층 신호 전달\n",
        "w2 = np.array([[0.1, 0.4], [0.2, 0.5], [0.3, 0.6]])\n",
        "b2 = np.array([0.1, 0.2])\n",
        "\n",
        "a2 = np.dot(z1, w2) + b2\n",
        "z2 = sigmoid(a2)\n",
        "z2"
      ],
      "metadata": {
        "colab": {
          "base_uri": "https://localhost:8080/"
        },
        "id": "qpXkIaZ9Xyfm",
        "outputId": "cab04ef0-4e06-43e4-cda0-e8653a89761a"
      },
      "execution_count": null,
      "outputs": [
        {
          "output_type": "execute_result",
          "data": {
            "text/plain": [
              "array([0.62624937, 0.7710107 ])"
            ]
          },
          "metadata": {},
          "execution_count": 23
        }
      ]
    },
    {
      "cell_type": "code",
      "source": [
        "## 향등 함수 : 입력을 그대로 출력하는 함수 ⟹ 출력층의 활성화 함수는 풀고자 하는 문제의 성질에 맞게 설정\n",
        "def identity_Function(x):\n",
        "  return x\n",
        "\n",
        "# 2층에서 출력층으로 신호 전달\n",
        "w3 = np.array([[0.1, 0.3], [0.2, 0.4]])\n",
        "b3 = np.array([0.1, 0.2])\n",
        "\n",
        "a3 = np.dot(z2, w3) + b3\n",
        "y = identity_Function(a3)\n",
        "y"
      ],
      "metadata": {
        "colab": {
          "base_uri": "https://localhost:8080/"
        },
        "id": "ISsOXeh0ZAwI",
        "outputId": "251b1b94-b146-41f4-d2b2-1843ecde5c5f"
      },
      "execution_count": null,
      "outputs": [
        {
          "output_type": "execute_result",
          "data": {
            "text/plain": [
              "array([0.31682708, 0.69627909])"
            ]
          },
          "metadata": {},
          "execution_count": 24
        }
      ]
    },
    {
      "cell_type": "code",
      "source": [
        "## 3층 신경망 순방향 구현 정리\n",
        "# 가중치와 편향 초기화하고 저장\n",
        "def init_network():\n",
        "  network = {}\n",
        "  network['W1'] = np.array([[0.1, 0.3, 0.5], [0.2, 0.4, 0.6]])\n",
        "  network['b1'] = np.array([0.1, 0.2, 0.3])\n",
        "  network['W2'] = np.array([[0.1, 0.4], [0.2, 0.5], [0.3, 0.6]])\n",
        "  network['b2'] = np.array([0.1, 0.2])\n",
        "  network['W3'] = np.array([[0.1, 0.3], [0.2, 0.4]])\n",
        "  network['b3'] = np.array([0.1, 0.2])\n",
        "\n",
        "  return network\n",
        "\n",
        "# 입력 신호 출력 신호로 변환\n",
        "def forward(network, x):\n",
        "  W1, W2, W3 = network['W1'], network['W2'], network['W3']\n",
        "  b1, b2, b3 = network['b1'], network['b2'], network['b3']\n",
        "\n",
        "  a1 = np.dot(x, W1) + b1\n",
        "  z1 = sigmoid(a1)\n",
        "  a2 = np.dot(z1, W2) + b2\n",
        "  z2 = sigmoid(a2)\n",
        "  a3 = np.dot(z2, W3) + b3\n",
        "  y = identity_Function(a3)\n",
        "\n",
        "  return y\n",
        "\n",
        "network = init_network()\n",
        "x = np.array([1.0, 0.5])\n",
        "y = forward(network, x)\n",
        "print(y)"
      ],
      "metadata": {
        "colab": {
          "base_uri": "https://localhost:8080/"
        },
        "id": "MFocSFR8aNMZ",
        "outputId": "4b3567b8-e95d-4364-e5be-186baabf1b84"
      },
      "execution_count": null,
      "outputs": [
        {
          "output_type": "stream",
          "name": "stdout",
          "text": [
            "[0.31682708 0.69627909]\n"
          ]
        }
      ]
    },
    {
      "cell_type": "markdown",
      "source": [
        "#### **3.5 출력층 설계**"
      ],
      "metadata": {
        "id": "UqOauZyLdKgx"
      }
    },
    {
      "cell_type": "markdown",
      "source": [
        "* 기계 학습 문제는 크게 분류와 회귀로 나눔\n",
        "* ***분류 (Classfication)*** : 데이터가 어느 클래스에 속하느냐는 문제 ⟹ 소프트맥스 함수 사용\n",
        "* ***회귀 (Regression)*** : 입력 데이터에서 연속적인 수치를 예측하는 문제 ⟹ 향등 함수 사용\n",
        "\n"
      ],
      "metadata": {
        "id": "g_4dV95WPGDh"
      }
    },
    {
      "cell_type": "markdown",
      "source": [
        "##### ***3.5.1 소프트맥스 함수 (Softmax Function)***\n",
        "\n",
        "$y_{k} = \\frac{exp(a_{k})}{\\displaystyle\\sum_{i=1}^{n} exp(a_{i})}$"
      ],
      "metadata": {
        "id": "Oto_WTR8ej7R"
      }
    },
    {
      "cell_type": "markdown",
      "source": [
        "* 분자는 k번째 입력 신호의 지수 함수로, 분모는 모든 입력 신호의 지수 함수의 합으로 이루어진 함수\n",
        "* 모든 입력 신호로부터 화살표를 받음 (출력층의 각 뉴런이 모든 입력 신호에서 영향을 받기 떄문)\n",
        "\n",
        "* 소프트맥스 함수의 출력 범위는 0~1.0 사이의 실수\n",
        "* 소프트맥스 함수의 출력 총합은 1이다. 따라서 소프트맥스 함수의 출력을 ***확률***로 해석 가능"
      ],
      "metadata": {
        "id": "IjSWsIANPBXa"
      }
    },
    {
      "cell_type": "code",
      "source": [
        "a = np.array([0.3, 2.9, 4.0])\n",
        "\n",
        "# 지수 함수\n",
        "exp_a = np.exp(a)\n",
        "print(exp_a)\n",
        "\n",
        "# 지수 함수의 합\n",
        "sum_exp_a = np.sum(exp_a)\n",
        "print(sum_exp_a)\n",
        "\n",
        "y = exp_a / sum_exp_a\n",
        "print(y)"
      ],
      "metadata": {
        "colab": {
          "base_uri": "https://localhost:8080/"
        },
        "id": "71xMHE1Peh8V",
        "outputId": "c7a5df61-294e-4dc2-dd9c-f047dcba92e5"
      },
      "execution_count": null,
      "outputs": [
        {
          "output_type": "stream",
          "name": "stdout",
          "text": [
            "[ 1.34985881 18.17414537 54.59815003]\n",
            "74.1221542101633\n",
            "[0.01821127 0.24519181 0.73659691]\n"
          ]
        }
      ]
    },
    {
      "cell_type": "code",
      "source": [
        "# 소프트맥스 함수 구현\n",
        "def softmax(a):\n",
        "  exp_a = np.exp(a)\n",
        "  sum_exp_a = np.sum(exp_a)\n",
        "  y = exp_a / sum_exp_a\n",
        "\n",
        "  return y"
      ],
      "metadata": {
        "id": "hgx6CVR3jU9C"
      },
      "execution_count": null,
      "outputs": []
    },
    {
      "cell_type": "code",
      "source": [
        "# 소프트맥스 함수 오버플로 문제 해결\n",
        "def sofmax(a):\n",
        "  C = np.Max(a)           # 오버플로를 막을 목적으로는 입력 신호 중 최댓값 이용\n",
        "  exp_a = np.exp(a - C) # overflow 대책\n",
        "  sum_exp_a = np.sum(exp_a)\n",
        "  y = exp_a / sum_exp_a\n",
        "\n",
        "  return y"
      ],
      "metadata": {
        "id": "DDc_1id7kO_j"
      },
      "execution_count": null,
      "outputs": []
    },
    {
      "cell_type": "code",
      "source": [
        "a = np.array([0.3, 2.9, 4.0])\n",
        "y = softmax(a)\n",
        "print(y)\n",
        "np.sum(y)"
      ],
      "metadata": {
        "colab": {
          "base_uri": "https://localhost:8080/"
        },
        "id": "lBFeaPu2nQFy",
        "outputId": "63fcc3a5-4a05-4b66-bd58-5424c7334554"
      },
      "execution_count": null,
      "outputs": [
        {
          "output_type": "stream",
          "name": "stdout",
          "text": [
            "[0.01821127 0.24519181 0.73659691]\n"
          ]
        },
        {
          "output_type": "execute_result",
          "data": {
            "text/plain": [
              "1.0"
            ]
          },
          "metadata": {},
          "execution_count": 34
        }
      ]
    },
    {
      "cell_type": "markdown",
      "source": [
        "####**3.6 손글씨 숫자 인식**\n",
        "\n",
        "[MNIST 모델 참고](https://my-brain.tistory.com/4)"
      ],
      "metadata": {
        "id": "JZtyGkoJqDWo"
      }
    },
    {
      "cell_type": "markdown",
      "source": [
        "* 기계학습의 문제 풀이는 ***학습***과 ***추론*** 단계를 거침\n",
        "* ***학습 단계*** : 훈련 데이터를 사용하여 가중치 및 편향 등 매개변수를 학습\n",
        "* ***추론 단계*** : 학습한 매개변수를 사용하여 입력 데이터를 분류"
      ],
      "metadata": {
        "id": "OYNyERjZXfOC"
      }
    },
    {
      "cell_type": "code",
      "source": [
        "## 신경망의 순전파 (Forward Propagation) : 신경망의 추론 과정\n",
        "# MNIST 데이터셋 : 손글씨 숫자 이미지 집합\n",
        "from keras.datasets import mnist\n",
        "\n",
        "(x_train, t_train), (x_test, t_test) = mnist.load_data()\n",
        "\n",
        "img = x_train[0]\n",
        "label = t_train[0]\n",
        "print(label)\n",
        "print(img.shape)"
      ],
      "metadata": {
        "id": "tZ5rr8WJAC0I",
        "colab": {
          "base_uri": "https://localhost:8080/"
        },
        "outputId": "a0d34071-3288-4875-8a80-61b1eced9932"
      },
      "execution_count": null,
      "outputs": [
        {
          "output_type": "stream",
          "name": "stdout",
          "text": [
            "Downloading data from https://storage.googleapis.com/tensorflow/tf-keras-datasets/mnist.npz\n",
            "11490434/11490434 [==============================] - 0s 0us/step\n",
            "5\n",
            "(28, 28)\n"
          ]
        }
      ]
    },
    {
      "cell_type": "code",
      "source": [
        "from matplotlib.pyplot import imshow\n",
        "#imshow(img.reshape(28, 28))\n",
        "imshow(x_train[0])"
      ],
      "metadata": {
        "id": "dQtEG7DHDFSh",
        "colab": {
          "base_uri": "https://localhost:8080/",
          "height": 447
        },
        "outputId": "1c9d77f5-f97f-4a95-bed3-2b2188805bf5"
      },
      "execution_count": null,
      "outputs": [
        {
          "output_type": "execute_result",
          "data": {
            "text/plain": [
              "<matplotlib.image.AxesImage at 0x7d13f72f6110>"
            ]
          },
          "metadata": {},
          "execution_count": 2
        },
        {
          "output_type": "display_data",
          "data": {
            "text/plain": [
              "<Figure size 640x480 with 1 Axes>"
            ],
            "image/png": "[encoded data removed]"
          },
          "metadata": {}
        }
      ]
    },
    {
      "cell_type": "code",
      "source": [
        "## 신경망의 추론 처리 ⟹ 입력층 뉴런 : 784개 (28X28) / 출력층 뉴런 : 10개\n",
        "from keras.datasets import mnist\n",
        "import numpy as np\n",
        "import pickle\n",
        "\n",
        "def get_data():\n",
        "  (x_train, t_train), (x_test, t_test) = mnist.load_data()\n",
        "  return x_test, t_test\n",
        "\n",
        "# pkl 파일 불러오기 : 학습된 가중치 매개변수 저장 파일\n",
        "def init_network():\n",
        "  with open(\"/content/sample_weight.pkl\", \"rb\") as f:\n",
        "            network = pickle.load(f)\n",
        "\n",
        "  return network\n",
        "\n",
        "# 각 레이블의 확률을 넘파이 배열로 반환\n",
        "def predict(network, x):\n",
        "  W1, W2, W3 = network['W1'], network['W2'], network['W3']\n",
        "  b1, b2, b3 = network['b1'], network['b2'], network['b3']\n",
        "\n",
        "  a1 = np.dot(x, W1) + b1\n",
        "  z1 = sigmoid(a1)\n",
        "  a2 = np.dot(z1, W2) + b2\n",
        "  z2 = sigmoid(a2)\n",
        "  a3 = np.dot(z2, W3) + b3\n",
        "  y = softmax(a3)\n",
        "\n",
        "  return y"
      ],
      "metadata": {
        "id": "6jIEnM6JXOXl"
      },
      "execution_count": null,
      "outputs": []
    },
    {
      "cell_type": "code",
      "source": [
        "x, t = get_data()\n",
        "x = x.reshape(-1, 28**2)\n",
        "network = init_network()\n",
        "\n",
        "accuracy_cnt = 0\n",
        "for i in range(len(x)):\n",
        "  y = predict(network, x[i])\n",
        "  p = np.argmax(y)  # 확률이 가장 높은 원소의 인덱스\n",
        "\n",
        "  if p == t[i]:\n",
        "    accuracy_cnt += 1\n",
        "\n",
        "print(\"Accuracy : \" + str(float(accuracy_cnt) / len(x)))"
      ],
      "metadata": {
        "colab": {
          "base_uri": "https://localhost:8080/"
        },
        "id": "OFloXWMxcn1H",
        "outputId": "161c5668-9346-4731-81b5-04b4660dcd8b"
      },
      "execution_count": null,
      "outputs": [
        {
          "output_type": "stream",
          "name": "stderr",
          "text": [
            "<ipython-input-7-40020ef692f8>:6: RuntimeWarning: overflow encountered in exp\n",
            "  return 1 /  (1 + np.exp(-x))\n"
          ]
        },
        {
          "output_type": "stream",
          "name": "stdout",
          "text": [
            "Accuracy : 0.9207\n"
          ]
        }
      ]
    },
    {
      "cell_type": "code",
      "source": [
        "## 정규화 (Normalization) : 데이터를 특정 범위로 변환하는 처리\n",
        "## 전처리 (Pre-processing) : 신경망의 입력 데이터에 특정 변환을 가하는 것\n",
        "## 데이터 백색화 : 전체 데이터를 균일하게 분포시키는 작업"
      ],
      "metadata": {
        "colab": {
          "base_uri": "https://localhost:8080/"
        },
        "id": "udPUA_fvdUyC",
        "outputId": "b3d43fc3-1c8b-45fc-e6f8-d073c8103f33"
      },
      "execution_count": null,
      "outputs": [
        {
          "output_type": "execute_result",
          "data": {
            "text/plain": [
              "10000"
            ]
          },
          "metadata": {},
          "execution_count": 133
        }
      ]
    },
    {
      "cell_type": "markdown",
      "source": [
        "***배치 (Batch)***"
      ],
      "metadata": {
        "id": "SjW1QlkEZ0Z4"
      }
    },
    {
      "cell_type": "markdown",
      "source": [
        "* 입력 데이터를 하나로 묶는 작업\n",
        "* 컴퓨터에서는 큰 배열을 한 번에 계산하는 것이 작은 배열을 여러 번 계산하는 것 보다 효율적"
      ],
      "metadata": {
        "id": "9xE5txZCZ551"
      }
    },
    {
      "cell_type": "code",
      "source": [
        "x, t = get_data()\n",
        "x = x.reshape(-1, 28**2)\n",
        "network = init_network()\n",
        "\n",
        "batch_size = 100\n",
        "accuracy_cnt = 0\n",
        "\n",
        "for i in range(0, len(x), batch_size):\n",
        "  x_batch = x[i:i+batch_size]\n",
        "  y_batch = predict(network, x_batch)\n",
        "  p = np.argmax(y_batch, axis=1)\n",
        "  accuracy_cnt += np.sum(p == t[i:i+batch_size])\n",
        "\n",
        "print(\"Accuracy : \" + str(float(accuracy_cnt) / len(x)))"
      ],
      "metadata": {
        "id": "wa8fGeQ7t1hp",
        "colab": {
          "base_uri": "https://localhost:8080/"
        },
        "outputId": "d1e744d5-ce83-402b-e590-9f687f673fae"
      },
      "execution_count": null,
      "outputs": [
        {
          "output_type": "stream",
          "name": "stdout",
          "text": [
            "Accuracy : 0.9207\n"
          ]
        },
        {
          "output_type": "stream",
          "name": "stderr",
          "text": [
            "<ipython-input-7-40020ef692f8>:6: RuntimeWarning: overflow encountered in exp\n",
            "  return 1 /  (1 + np.exp(-x))\n"
          ]
        }
      ]
    }
  ]
}